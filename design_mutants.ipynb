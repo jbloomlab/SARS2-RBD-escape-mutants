{
 "cells": [
  {
   "cell_type": "markdown",
   "id": "fd4a310b-540b-4a3b-a18f-19aede5e5db1",
   "metadata": {},
   "source": [
    "# Design SARS-CoV-2 spike RBD mutants\n",
    "This notebook chooses/designs spikes with mutant RBDs."
   ]
  },
  {
   "cell_type": "markdown",
   "id": "2a319498-77a9-4b92-9f72-e0f9eff5d385",
   "metadata": {},
   "source": [
    "## Setup\n",
    "Import Python modules:"
   ]
  },
  {
   "cell_type": "code",
   "execution_count": 1,
   "id": "f1ebf31a-43a9-4b55-a523-387ee5730c89",
   "metadata": {
    "tags": []
   },
   "outputs": [],
   "source": [
    "import collections\n",
    "import json\n",
    "import os\n",
    "import subprocess\n",
    "import tempfile\n",
    "import urllib\n",
    "\n",
    "import altair as alt\n",
    "\n",
    "import Bio.Entrez\n",
    "import Bio.SeqIO\n",
    "\n",
    "import numpy\n",
    "\n",
    "import pandas as pd\n",
    "\n",
    "import ruamel.yaml as yaml"
   ]
  },
  {
   "cell_type": "markdown",
   "id": "0db7d3d5-0ac6-4bd6-845c-51ad6201a208",
   "metadata": {},
   "source": [
    "Read configuration:"
   ]
  },
  {
   "cell_type": "code",
   "execution_count": 2,
   "id": "efc59b42-d5d6-4757-8277-4240372df73b",
   "metadata": {
    "tags": []
   },
   "outputs": [],
   "source": [
    "with open(\"config.yaml\") as f:\n",
    "    config = yaml.YAML().load(f)"
   ]
  },
  {
   "cell_type": "markdown",
   "id": "a00435b3-46d2-4b8b-86a7-3454a7173eb6",
   "metadata": {},
   "source": [
    "## Get the reference RBD"
   ]
  },
  {
   "cell_type": "code",
   "execution_count": 3,
   "id": "1322162b-0020-412a-a73b-f606eec4be24",
   "metadata": {},
   "outputs": [
    {
     "name": "stdout",
     "output_type": "stream",
     "text": [
      "Getting reference spike from accession YP_009724390\n",
      "Got spike of length 1273\n"
     ]
    }
   ],
   "source": [
    "Bio.Entrez.email = \"example@example.com\"\n",
    "\n",
    "print(f\"Getting reference spike from accession {config['ref_spike']}\")\n",
    "with Bio.Entrez.efetch(id=config[\"ref_spike\"], rettype=\"gb\", retmode=\"text\", db=\"protein\") as f:\n",
    "    ref_spike = Bio.SeqIO.read(f, \"gb\")\n",
    "print(f\"Got spike of length {len(ref_spike)}\")\n",
    "\n",
    "rbd_coords = config[\"rbd_coords\"]\n",
    "\n",
    "ref_rbd = {r: ref_spike[r - 1] for r in range(rbd_coords[0], rbd_coords[1] + 1)}"
   ]
  },
  {
   "cell_type": "markdown",
   "id": "db29426c-1b5e-4330-a7e5-b6baa8f889ae",
   "metadata": {},
   "source": [
    "## Get RBD mutations in each Pango lineage"
   ]
  },
  {
   "cell_type": "code",
   "execution_count": 4,
   "id": "3c82a826-7877-4097-b695-aeccddbcca1d",
   "metadata": {},
   "outputs": [
    {
     "name": "stdout",
     "output_type": "stream",
     "text": [
      "Reading Pango clade definitions from https://raw.githubusercontent.com/corneliusroemer/pango-sequences/main/data/pango-consensus-sequences_summary.json\n",
      "Read definitions for 3916 lineages\n"
     ]
    }
   ],
   "source": [
    "pango_json = config[\"pango_json\"]\n",
    "print(f\"Reading Pango clade definitions from {pango_json}\")\n",
    "with urllib.request.urlopen(pango_json) as url:\n",
    "    pango_lineages = json.load(url)\n",
    "print(f\"Read definitions for {len(pango_lineages)} lineages\")\n",
    "\n",
    "\n",
    "def parse_spike_rbd_muts(lineage_d):\n",
    "    \"\"\"Parse spike RBD mutations from dict for a lineage.\"\"\"\n",
    "    rbd_muts = []\n",
    "    for mut in lineage_d[\"aaSubstitutions\"] + lineage_d[\"aaDeletions\"]:\n",
    "        if mut.startswith(\"S:\"):\n",
    "            mut = mut.split(\":\")[1]\n",
    "            wt = mut[0]\n",
    "            r = int(mut[1: -1])\n",
    "            m = mut[-1]\n",
    "            if rbd_coords[0] <= r <= rbd_coords[1]:\n",
    "                assert wt == ref_rbd[r]\n",
    "                rbd_muts.append((wt, r, m))\n",
    "    return rbd_muts\n",
    "            \n",
    "pango_rbd_muts = {pango: parse_spike_rbd_muts(d) for (pango, d) in pango_lineages.items()}"
   ]
  },
  {
   "cell_type": "markdown",
   "id": "608900ea-67ea-4f94-9f06-c4b3e0fcf75c",
   "metadata": {},
   "source": [
    "## Get and import the escape calculator"
   ]
  },
  {
   "cell_type": "code",
   "execution_count": 5,
   "id": "e5875f87-0d4d-4d87-bc41-b2102afdc945",
   "metadata": {},
   "outputs": [],
   "source": [
    "# get and import the module\n",
    "_ = urllib.request.urlretrieve(\n",
    "    config[\"escape_calculator_module_url\"],\n",
    "    \"escapecalculator.py\",\n",
    ")\n",
    "\n",
    "import escapecalculator"
   ]
  },
  {
   "cell_type": "markdown",
   "id": "59f84568-41ec-4a21-82d6-b690a38a69fe",
   "metadata": {},
   "source": [
    "## Now make designs for each parent"
   ]
  },
  {
   "cell_type": "code",
   "execution_count": 20,
   "id": "be711e3d-e253-4d67-9409-ac29e73db082",
   "metadata": {},
   "outputs": [
    {
     "name": "stdout",
     "output_type": "stream",
     "text": [
      "\n",
      "Making nmutants=5 mutant designs for parent='JN.1' in each category\n",
      "Have phenotypes for 977 mutations at 192 sites\n"
     ]
    }
   ],
   "source": [
    "repetition_downweight = config[\"repetition_downweight\"]\n",
    "allow_reversions_to_ref = config[\"allow_reversions_to_ref\"]\n",
    "categories = config[\"categories\"]\n",
    "\n",
    "for parent, parent_d in config[\"parent_specs\"].items():\n",
    "    nmutants = parent_d[\"nmutants\"]\n",
    "    print(f\"\\nMaking {nmutants=} mutant designs for {parent=} in each category\")\n",
    "    with open(parent_d[\"specs\"]) as f:\n",
    "        parent_config = yaml.YAML().load(f)\n",
    "\n",
    "    # make a data frame that includes parent and ref amino acid at each site\n",
    "    parent_aas = (\n",
    "        # first get reference and parent amino acid for each site\n",
    "        pd.Series(ref_rbd).rename_axis(\"site\").rename(\"ref_amino_acid\").reset_index()\n",
    "        .merge(\n",
    "            pd.DataFrame(\n",
    "                pango_rbd_muts[parent],\n",
    "                columns=[\"ref_amino_acid\", \"site\", \"parent_amino_acid\"],\n",
    "            ),\n",
    "            how=\"outer\",\n",
    "            on=[\"ref_amino_acid\", \"site\"],\n",
    "        )\n",
    "        .assign(\n",
    "            parent_amino_acid=lambda x: x[\"parent_amino_acid\"].where(\n",
    "                x[\"parent_amino_acid\"].notnull(), x[\"ref_amino_acid\"])\n",
    "        )\n",
    "    )\n",
    "    assert len(parent_aas) == parent_aas[\"site\"].nunique() == len(ref_rbd)\n",
    "\n",
    "    # set up escape calculator\n",
    "#    escape_calc = escapecalculator.EscapeCalculator(virus=parent_config[\"escapecalculator\"][\"virus\"])\n",
    "    # get sites that differ between parent and virus used to initialize escape calculator\n",
    "    parent_escape_calc_virus_diff_sites = list(set([\n",
    "        tup[1]\n",
    "        for tup in set(pango_rbd_muts[parent]).symmetric_difference(\n",
    "            pango_rbd_muts[parent_config[\"escapecalculator\"][\"virus\"]]\n",
    "        )\n",
    "    ]))\n",
    "\n",
    "    # get RBD deep mutational scanning data\n",
    "    rbd_dms = (\n",
    "        pd.read_csv(parent_config[\"rbd_dms\"][\"data\"])\n",
    "        .query(\"target == @parent_config['rbd_dms']['target']\")\n",
    "        .rename(columns={\"position\": \"site\", \"mutant\": \"amino_acid\"})\n",
    "        [[\"site\", \"amino_acid\", \"delta_bind\", \"delta_expr\"]]\n",
    "        .assign(\n",
    "            delta_bind=lambda x: x[\"delta_bind\"].clip(upper=parent_config[\"rbd_dms\"][\"clip\"]),\n",
    "            delta_expr=lambda x: x[\"delta_expr\"].clip(upper=parent_config[\"rbd_dms\"][\"clip\"]),\n",
    "        )\n",
    "    )\n",
    "    # normalize values to parent amino acids\n",
    "    rbd_dms = (\n",
    "        rbd_dms\n",
    "        .merge(parent_aas[[\"site\", \"parent_amino_acid\"]], on=\"site\", validate=\"many_to_one\")\n",
    "        .query(\"parent_amino_acid == amino_acid\")\n",
    "        .rename(columns={\"delta_expr\": \"parent_expr\", \"delta_bind\": \"parent_bind\"})\n",
    "        .drop(columns=[\"amino_acid\", \"parent_amino_acid\"])\n",
    "        .merge(rbd_dms, on=\"site\", validate=\"one_to_many\")\n",
    "        .assign(\n",
    "            delta_bind=lambda x: x[\"delta_bind\"] - x[\"parent_bind\"],\n",
    "            delta_expr=lambda x: x[\"delta_expr\"] - x[\"parent_expr\"],\n",
    "        )\n",
    "        .drop(columns=[\"parent_expr\", \"parent_bind\"])\n",
    "        .rename(columns={\"delta_bind\": \"rbd_delta_bind\", \"delta_expr\": \"rbd_delta_expr\"})\n",
    "    )\n",
    "    assert len(rbd_dms)\n",
    "\n",
    "    # get all-clade fitness estimates \n",
    "    fitness = (\n",
    "        pd.read_csv(parent_config[\"fitness_estimates\"][\"fitness\"])\n",
    "        .query(\"gene == 'S'\")\n",
    "        .query(\"expected_count >= @parent_config['fitness_estimates']['fitness_min_count']\")\n",
    "        .rename(columns={\"aa_site\": \"site\", \"aa\": \"amino_acid\"})\n",
    "        .assign(fitness=lambda x: x[\"fitness\"].clip(upper=parent_config[\"fitness_estimates\"][\"clip\"]))\n",
    "        [[\"site\", \"amino_acid\", \"fitness\"]]\n",
    "    )\n",
    "    assert len(fitness)\n",
    "\n",
    "    # get clade fitness effects\n",
    "    by_clade_fitness = (\n",
    "        pd.read_csv(parent_config[\"fitness_estimates\"][\"by_clade\"])\n",
    "        .query(\"gene == 'S'\")\n",
    "        .query(\"clade == @parent_config['fitness_estimates']['clade']\")\n",
    "        .query(\n",
    "            \"(expected_count >= @parent_config['fitness_estimates']['clade_min_count'])\"\n",
    "            \"or (actual_count >= @parent_config['fitness_estimates']['clade_min_count'])\"\n",
    "        )\n",
    "        .rename(columns={\"aa_site\": \"site\", \"mutant_aa\": \"amino_acid\", \"delta_fitness\": \"clade_fitness\"})\n",
    "        .assign(fitness=lambda x: x[\"clade_fitness\"].clip(upper=parent_config[\"fitness_estimates\"][\"clip\"]))\n",
    "        [[\"site\", \"amino_acid\", \"clade_fitness\"]]\n",
    "    )\n",
    "    assert len(by_clade_fitness)\n",
    "\n",
    "    # get spike DMS\n",
    "    spike_dms = (\n",
    "        pd.read_csv(parent_config[\"spike_dms\"][\"csv\"])\n",
    "        .rename(columns={\"mutant\": \"amino_acid\"})\n",
    "        [[\"site\", \"amino_acid\", \"human sera escape\", \"spike mediated entry\", \"ACE2 binding\"]]\n",
    "    )\n",
    "    # normalize values to parent amino acids\n",
    "    spike_dms = (\n",
    "        spike_dms\n",
    "        .merge(parent_aas[[\"site\", \"parent_amino_acid\"]], on=\"site\", validate=\"many_to_one\")\n",
    "        .query(\"parent_amino_acid == amino_acid\")\n",
    "        .rename(\n",
    "            columns={\n",
    "                \"human sera escape\": \"parent_human sera escape\",\n",
    "                \"spike mediated entry\": \"parent_spike mediated entry\",\n",
    "                \"ACE2 binding\": \"parent_ACE2 binding\",\n",
    "            }\n",
    "        )\n",
    "        .drop(columns=[\"amino_acid\", \"parent_amino_acid\"])\n",
    "        .merge(spike_dms, on=\"site\", validate=\"one_to_many\")\n",
    "        .assign(\n",
    "            spike_escape=lambda x: x[\"human sera escape\"] - x[\"parent_human sera escape\"],\n",
    "            spike_entry=lambda x: x[\"spike mediated entry\"] - x[\"parent_spike mediated entry\"],\n",
    "            spike_ACE2_binding=lambda x: x[\"ACE2 binding\"] - x[\"parent_ACE2 binding\"],\n",
    "        )\n",
    "        [[\"site\", \"amino_acid\", \"spike_escape\", \"spike_entry\", \"spike_ACE2_binding\"]]\n",
    "    )\n",
    "    assert len(spike_dms)\n",
    "\n",
    "    # now add each phenotype and its weight\n",
    "    parent_phenotypes = (\n",
    "        parent_aas\n",
    "        # add fitness estimates, only keeping mutations with estimates\n",
    "        .merge(fitness, on=\"site\", validate=\"one_to_many\", how=\"inner\")\n",
    "        .assign(fitness_weight=parent_config[\"fitness_estimates\"][\"weights\"][\"fitness\"])\n",
    "        # add clade fitness estimates, clipping lower at zero and also setting missing to zero\n",
    "        .merge(by_clade_fitness, on=[\"site\", \"amino_acid\"], validate=\"one_to_one\", how=\"left\")\n",
    "        .assign(\n",
    "            clade_fitness=lambda x: x[\"clade_fitness\"].where(x[\"clade_fitness\"] > 0, 0),\n",
    "            clade_fitness_weight=parent_config[\"fitness_estimates\"][\"weights\"][\"by_clade_effect\"],\n",
    "        )\n",
    "        # add RBD DMS, only keeping mutations with measurements\n",
    "        .merge(rbd_dms, on=[\"site\", \"amino_acid\"], validate=\"one_to_one\", how=\"inner\")\n",
    "        .assign(\n",
    "            rbd_delta_bind_weight=parent_config[\"rbd_dms\"][\"weights\"][\"delta_bind\"],\n",
    "            rbd_deta_expr_weight=parent_config[\"rbd_dms\"][\"weights\"][\"delta_expr\"],\n",
    "        )\n",
    "        # add spike DMS, only keeping mutations with measurements\n",
    "        .merge(spike_dms, on=[\"site\", \"amino_acid\"], validate=\"one_to_one\", how=\"inner\")\n",
    "        .assign(\n",
    "            spike_escape_weight=parent_config[\"spike_dms\"][\"weights\"][\"sera escape\"],\n",
    "            spike_entry_weight=parent_config[\"spike_dms\"][\"weights\"][\"spike mediated entry\"],\n",
    "            spike_ACE2_binding_weight=parent_config[\"spike_dms\"][\"weights\"][\"ACE2 binding\"],\n",
    "        )\n",
    "    )\n",
    "    print(f\"Have phenotypes for {len(parent_phenotypes)} mutations at {parent_phenotypes['site'].nunique()} sites\")\n",
    "\n"
   ]
  },
  {
   "cell_type": "code",
   "execution_count": 16,
   "id": "ac126109-c8c5-4cc4-9c83-c2a5f769821b",
   "metadata": {},
   "outputs": [
    {
     "data": {
      "text/plain": [
       "{'escapecalculator': {'virus': 'XBB', 'weight': 1}, 'rbd_dms': {'data': 'https://media.githubusercontent.com/media/tstarrlab/SARS-CoV-2-RBD_DMS_Omicron-XBB-BQ/main/results/final_variant_scores/final_variant_scores.csv', 'target': 'Omicron_XBB15', 'clip': 2, 'weights': {'delta_bind': 1, 'delta_expr': 1}}, 'fitness_estimates': {'fitness': 'https://raw.githubusercontent.com/jbloomlab/SARS2-mut-fitness/main/results_gisaid_2024-04-24/aa_fitness/aa_fitness.csv', 'by_clade': 'https://media.githubusercontent.com/media/jbloomlab/SARS2-mut-fitness/main/results_gisaid_2024-04-24/aa_fitness/aamut_fitness_by_clade.csv', 'clade': '23A', 'clade_min_count': 5, 'fitness_min_count': 10, 'clip': 4, 'weights': {'fitness': 1, 'by_clade_effect': 1}}, 'spike_dms': {'csv': 'https://raw.githubusercontent.com/dms-vep/SARS-CoV-2_XBB.1.5_spike_DMS/main/results/summaries/summary.csv', 'weights': {'sera escape': 1, 'spike mediated entry': 1, 'ACE2 binding': 1}}}"
      ]
     },
     "execution_count": 16,
     "metadata": {},
     "output_type": "execute_result"
    }
   ],
   "source": [
    "parent_config"
   ]
  },
  {
   "cell_type": "code",
   "execution_count": null,
   "id": "6b0e0f95-47db-4d75-b6ac-e1b134452e29",
   "metadata": {
    "tags": []
   },
   "outputs": [],
   "source": [
    "components_per_cocktail = config[\"components_per_cocktail\"]\n",
    "mutations_per_design = config[\"mutations_per_design\"]\n",
    "parent_existing_mut_sites = config[\"escapecalculator\"][\"parent_existing_mut_sites\"]\n",
    "rbd_dms_clip = config[\"rbd_dms\"][\"clip\"]\n",
    "repetition_downweight = config[\"repetition_downweight\"]\n",
    "\n",
    "if len(parents) >= components_per_cocktail:\n",
    "    raise ValueError(\"nothing to design if as many parents and components\")\n",
    "print(f\"All cocktails have {components_per_cocktail} components\")\n",
    "\n",
    "for cocktail, n_muts in mutations_per_design.items():\n",
    "    print(f\"\\nDesigning {cocktail} with {n_muts} mutations per design\")\n",
    "    \n",
    "    cocktail_seqs = [(name, str(seq.seq)) for name, seq in parents.items()]\n",
    "    cocktail_mutation_counts = collections.defaultdict(int)  # counts of mutations in cocktail so far\n",
    "    \n",
    "    i = 0\n",
    "    while len(cocktail_seqs) < components_per_cocktail:\n",
    "        design_parent_name, design_parent_seq = list(parents.items())[i % len(parents)]\n",
    "        design_parent_seq = str(design_parent_seq.seq)\n",
    "        i += 1\n",
    "        \n",
    "        mut_sites = list(parent_existing_mut_sites[design_parent_name])\n",
    "        \n",
    "        # normalize RBD DMS so parental value is 0\n",
    "        parent_normalized_rbd_dms = (\n",
    "            rbd_dms\n",
    "            .assign(parent_aa=lambda x: x[\"site\"].map(parent_wts[design_parent_name]))\n",
    "            .query(\"amino_acid == parent_aa\")\n",
    "            .rename(columns={\"delta_expr\": \"parent_expr\", \"delta_bind\": \"parent_bind\"})\n",
    "            .drop(columns=\"amino_acid\")\n",
    "            .merge(rbd_dms, on=\"site\", validate=\"one_to_many\")\n",
    "            .assign(\n",
    "                delta_expr=lambda x: x[\"delta_expr\"] - x[\"parent_expr\"],\n",
    "                delta_bind=lambda x: x[\"delta_bind\"] - x[\"parent_bind\"],\n",
    "            )\n",
    "            [[\"site\", \"amino_acid\", \"delta_expr\", \"delta_bind\"]]\n",
    "        )\n",
    "        \n",
    "        design_mutations = []\n",
    "        for _ in range(n_muts):\n",
    "            # get top scoring mutation\n",
    "            mut_scores = (\n",
    "                escape_calc.escape_per_site(mut_sites)\n",
    "                .merge(parent_normalized_rbd_dms, on=\"site\")\n",
    "                .merge(fitness, on=[\"site\", \"amino_acid\"])\n",
    "                .assign(\n",
    "                    parent_aa=lambda x: x[\"site\"].map(parent_wts[design_parent_name]),\n",
    "                    mutation=lambda x: x[\"parent_aa\"] + x[\"site\"].astype(str) + x[\"amino_acid\"],\n",
    "                    repetition_weight=lambda x: repetition_downweight**x[\"mutation\"].map(cocktail_mutation_counts),\n",
    "                    score=lambda x: (\n",
    "                        x[\"retained_escape\"]\n",
    "                        * numpy.clip(numpy.exp(x[\"delta_expr\"]), a_min=None, a_max=rbd_dms_clip)\n",
    "                        * numpy.clip(numpy.exp(x[\"delta_bind\"]), a_min=None, a_max=rbd_dms_clip)\n",
    "                        * x[\"fitness_score\"]\n",
    "                        * x[\"repetition_weight\"]\n",
    "                    ),\n",
    "                )\n",
    "                .sort_values(\"score\", ascending=False)\n",
    "                .query(\"parent_aa != amino_acid\")\n",
    "            )\n",
    "            mutation = mut_scores[\"mutation\"].iloc[0]\n",
    "            site = mut_scores[\"site\"].iloc[0]\n",
    "            design_mutations.append(mutation)\n",
    "            cocktail_mutation_counts[mutation] += 1\n",
    "            mut_sites.append(site)\n",
    "        \n",
    "        design_seq = list(design_parent_seq)\n",
    "        for mut in design_mutations:\n",
    "            r_parent = ref_to_parent_site[design_parent_name][int(mut[1: -1])]\n",
    "            assert design_seq[r_parent - 1] == mut[0]\n",
    "            design_seq[r_parent - 1] = mut[-1]\n",
    "        cocktail_seqs.append(\n",
    "            (\n",
    "                design_parent_name + \"_\" + \"_\".join(design_mutations),\n",
    "                \"\".join(design_seq),\n",
    "            )\n",
    "        )\n",
    "        \n",
    "    print(\"Components of cocktail are:\\n \" + \"\\n \".join(n for n, _ in cocktail_seqs))\n",
    "    \n",
    "    cocktail_vax_file = f\"vax_designs/{cocktail}-vax.fa\"\n",
    "    print(f\"Writing {cocktail} of {len(cocktail_seqs)} to {cocktail_vax_file}\")\n",
    "    with open(cocktail_vax_file, \"w\") as f:\n",
    "        for name, seq in cocktail_seqs:\n",
    "            f.write(f\">{name}\\n{seq}\\n\")"
   ]
  }
 ],
 "metadata": {
  "kernelspec": {
   "display_name": "Python 3 (ipykernel)",
   "language": "python",
   "name": "python3"
  },
  "language_info": {
   "codemirror_mode": {
    "name": "ipython",
    "version": 3
   },
   "file_extension": ".py",
   "mimetype": "text/x-python",
   "name": "python",
   "nbconvert_exporter": "python",
   "pygments_lexer": "ipython3",
   "version": "3.12.3"
  }
 },
 "nbformat": 4,
 "nbformat_minor": 5
}
