{
 "cells": [
  {
   "cell_type": "markdown",
   "id": "fd4a310b-540b-4a3b-a18f-19aede5e5db1",
   "metadata": {},
   "source": [
    "# Design SARS-CoV-2 spike RBD mutants\n",
    "This notebook chooses/designs spikes with mutant RBDs."
   ]
  },
  {
   "cell_type": "markdown",
   "id": "2a319498-77a9-4b92-9f72-e0f9eff5d385",
   "metadata": {},
   "source": [
    "## Setup\n",
    "Import Python modules:"
   ]
  },
  {
   "cell_type": "code",
   "execution_count": 1,
   "id": "f1ebf31a-43a9-4b55-a523-387ee5730c89",
   "metadata": {
    "execution": {
     "iopub.execute_input": "2024-04-26T14:01:08.110136Z",
     "iopub.status.busy": "2024-04-26T14:01:08.109494Z",
     "iopub.status.idle": "2024-04-26T14:01:11.182037Z",
     "shell.execute_reply": "2024-04-26T14:01:11.180978Z",
     "shell.execute_reply.started": "2024-04-26T14:01:08.110071Z"
    },
    "tags": []
   },
   "outputs": [],
   "source": [
    "import collections\n",
    "import json\n",
    "import os\n",
    "import subprocess\n",
    "import tempfile\n",
    "import urllib\n",
    "\n",
    "import altair as alt\n",
    "\n",
    "import Bio.Entrez\n",
    "import Bio.SeqIO\n",
    "\n",
    "import numpy\n",
    "\n",
    "import pandas as pd\n",
    "\n",
    "import ruamel.yaml as yaml"
   ]
  },
  {
   "cell_type": "markdown",
   "id": "0db7d3d5-0ac6-4bd6-845c-51ad6201a208",
   "metadata": {},
   "source": [
    "Read configuration:"
   ]
  },
  {
   "cell_type": "code",
   "execution_count": 13,
   "id": "efc59b42-d5d6-4757-8277-4240372df73b",
   "metadata": {
    "execution": {
     "iopub.execute_input": "2024-04-26T14:13:19.684175Z",
     "iopub.status.busy": "2024-04-26T14:13:19.683507Z",
     "iopub.status.idle": "2024-04-26T14:13:19.705502Z",
     "shell.execute_reply": "2024-04-26T14:13:19.704642Z",
     "shell.execute_reply.started": "2024-04-26T14:13:19.684120Z"
    },
    "tags": []
   },
   "outputs": [],
   "source": [
    "with open(\"config.yaml\") as f:\n",
    "    config = yaml.YAML().load(f)"
   ]
  },
  {
   "cell_type": "markdown",
   "id": "a00435b3-46d2-4b8b-86a7-3454a7173eb6",
   "metadata": {},
   "source": [
    "## Get the reference RBD"
   ]
  },
  {
   "cell_type": "code",
   "execution_count": 3,
   "id": "1322162b-0020-412a-a73b-f606eec4be24",
   "metadata": {
    "execution": {
     "iopub.execute_input": "2024-04-26T14:01:11.202604Z",
     "iopub.status.busy": "2024-04-26T14:01:11.202335Z",
     "iopub.status.idle": "2024-04-26T14:01:12.091654Z",
     "shell.execute_reply": "2024-04-26T14:01:12.090861Z",
     "shell.execute_reply.started": "2024-04-26T14:01:11.202577Z"
    }
   },
   "outputs": [
    {
     "name": "stdout",
     "output_type": "stream",
     "text": [
      "Getting reference spike from accession YP_009724390\n",
      "Got spike of length 1273\n"
     ]
    }
   ],
   "source": [
    "Bio.Entrez.email = \"example@example.com\"\n",
    "\n",
    "print(f\"Getting reference spike from accession {config['ref_spike']}\")\n",
    "with Bio.Entrez.efetch(id=config[\"ref_spike\"], rettype=\"gb\", retmode=\"text\", db=\"protein\") as f:\n",
    "    ref_spike = Bio.SeqIO.read(f, \"gb\")\n",
    "print(f\"Got spike of length {len(ref_spike)}\")\n",
    "\n",
    "rbd_coords = config[\"rbd_coords\"]\n",
    "\n",
    "ref_rbd = {r: ref_spike[r - 1] for r in range(rbd_coords[0], rbd_coords[1] + 1)}"
   ]
  },
  {
   "cell_type": "markdown",
   "id": "db29426c-1b5e-4330-a7e5-b6baa8f889ae",
   "metadata": {},
   "source": [
    "## Get RBD mutations in each Pango lineage"
   ]
  },
  {
   "cell_type": "code",
   "execution_count": 4,
   "id": "3c82a826-7877-4097-b695-aeccddbcca1d",
   "metadata": {
    "execution": {
     "iopub.execute_input": "2024-04-26T14:01:12.094154Z",
     "iopub.status.busy": "2024-04-26T14:01:12.093747Z",
     "iopub.status.idle": "2024-04-26T14:01:13.446626Z",
     "shell.execute_reply": "2024-04-26T14:01:13.445844Z",
     "shell.execute_reply.started": "2024-04-26T14:01:12.094119Z"
    }
   },
   "outputs": [
    {
     "name": "stdout",
     "output_type": "stream",
     "text": [
      "Reading Pango clade definitions from https://raw.githubusercontent.com/corneliusroemer/pango-sequences/main/data/pango-consensus-sequences_summary.json\n",
      "Read definitions for 3916 lineages\n"
     ]
    }
   ],
   "source": [
    "pango_json = config[\"pango_json\"]\n",
    "print(f\"Reading Pango clade definitions from {pango_json}\")\n",
    "with urllib.request.urlopen(pango_json) as url:\n",
    "    pango_lineages = json.load(url)\n",
    "print(f\"Read definitions for {len(pango_lineages)} lineages\")\n",
    "\n",
    "\n",
    "def parse_spike_rbd_muts(lineage_d):\n",
    "    \"\"\"Parse spike RBD mutations from dict for a lineage.\"\"\"\n",
    "    rbd_muts = []\n",
    "    for mut in lineage_d[\"aaSubstitutions\"] + lineage_d[\"aaDeletions\"]:\n",
    "        if mut.startswith(\"S:\"):\n",
    "            mut = mut.split(\":\")[1]\n",
    "            wt = mut[0]\n",
    "            r = int(mut[1: -1])\n",
    "            m = mut[-1]\n",
    "            if rbd_coords[0] <= r <= rbd_coords[1]:\n",
    "                assert wt == ref_rbd[r]\n",
    "                rbd_muts.append((wt, r, m))\n",
    "    return rbd_muts\n",
    "            \n",
    "pango_rbd_muts = {pango: parse_spike_rbd_muts(d) for (pango, d) in pango_lineages.items()}"
   ]
  },
  {
   "cell_type": "markdown",
   "id": "608900ea-67ea-4f94-9f06-c4b3e0fcf75c",
   "metadata": {},
   "source": [
    "## Get and import the escape calculator"
   ]
  },
  {
   "cell_type": "code",
   "execution_count": 14,
   "id": "e5875f87-0d4d-4d87-bc41-b2102afdc945",
   "metadata": {
    "execution": {
     "iopub.execute_input": "2024-04-26T14:13:40.284070Z",
     "iopub.status.busy": "2024-04-26T14:13:40.283389Z",
     "iopub.status.idle": "2024-04-26T14:13:40.796549Z",
     "shell.execute_reply": "2024-04-26T14:13:40.795473Z",
     "shell.execute_reply.started": "2024-04-26T14:13:40.284016Z"
    }
   },
   "outputs": [],
   "source": [
    "# get and import the module\n",
    "_ = urllib.request.urlretrieve(\n",
    "    config[\"escape_calculator_module_url\"],\n",
    "    \"escapecalculator.py\",\n",
    ")\n",
    "\n",
    "import escapecalculator"
   ]
  },
  {
   "cell_type": "markdown",
   "id": "59f84568-41ec-4a21-82d6-b690a38a69fe",
   "metadata": {},
   "source": [
    "## Now make designs for each parent"
   ]
  },
  {
   "cell_type": "code",
   "execution_count": 10,
   "id": "be711e3d-e253-4d67-9409-ac29e73db082",
   "metadata": {
    "execution": {
     "iopub.execute_input": "2024-04-26T14:05:18.718889Z",
     "iopub.status.busy": "2024-04-26T14:05:18.718240Z",
     "iopub.status.idle": "2024-04-26T14:05:18.744879Z",
     "shell.execute_reply": "2024-04-26T14:05:18.744213Z",
     "shell.execute_reply.started": "2024-04-26T14:05:18.718838Z"
    }
   },
   "outputs": [
    {
     "name": "stdout",
     "output_type": "stream",
     "text": [
      "Making nmutants=5 mutant designs for parent='XBB.1.5' in each category\n",
      "{'escapecalculator': {'module_url': 'https://raw.githubusercontent.com/jbloomlab/SARS2-RBD-escape-calc/6d56b7d0b353ddf7b107eb63b50124826d476dee/escapecalculator.py', 'kwargs': {'antibody_ic50s': 'https://raw.githubusercontent.com/jbloomlab/SARS2-RBD-escape-calc/6d56b7d0b353ddf7b107eb63b50124826d476dee/results/antibody_IC50s.csv', 'antibody_binding': 'https://raw.githubusercontent.com/jbloomlab/SARS2-RBD-escape-calc/6d56b7d0b353ddf7b107eb63b50124826d476dee/results/antibody_binding.csv', 'antibody_sources': 'https://raw.githubusercontent.com/jbloomlab/SARS2-RBD-escape-calc/6d56b7d0b353ddf7b107eb63b50124826d476dee/results/antibody_sources.csv', 'antibody_reweighting': 'https://raw.githubusercontent.com/jbloomlab/SARS2-RBD-escape-calc/6d56b7d0b353ddf7b107eb63b50124826d476dee/results/antibody_reweighting.csv', 'config': 'https://raw.githubusercontent.com/jbloomlab/SARS2-RBD-escape-calc/6d56b7d0b353ddf7b107eb63b50124826d476dee/config.yaml', 'virus': 'XBB', 'weight': 1}}, 'rbd_dms': {'data': 'https://media.githubusercontent.com/media/tstarrlab/SARS-CoV-2-RBD_DMS_Omicron-XBB-BQ/46e881d7dbf618ab9509728f29a01ca7eadfed09/results/final_variant_scores/final_variant_scores.csv', 'target': 'Omicron_XBB15', 'clip': 2, 'phenotypes': {'delta_bind': 1, 'delta_expr': 1}}, 'fitness_estimates': {'fitness': 'https://raw.githubusercontent.com/jbloomlab/SARS2-mut-fitness/main/results_gisaid_2024-04-24/aa_fitness/aa_fitness.csv', 'by_clade': 'https://media.githubusercontent.com/media/jbloomlab/SARS2-mut-fitness/main/results_gisaid_2024-04-24/aa_fitness/aamut_fitness_by_clade.csv', 'clade': '23A', 'clade_min_count': 5, 'fitness_min_count': 10, 'clip': 4, 'weights': {'fitness': 1, 'by_clade_effect': 1}}, 'spike_dms': {'csv': 'https://raw.githubusercontent.com/dms-vep/SARS-CoV-2_XBB.1.5_spike_DMS/main/results/summaries/summary.csv', 'weights': {'sera escape': 1, 'spike mediated entry': 1, 'ACE2 binding': 1}}}\n"
     ]
    }
   ],
   "source": [
    "repetition_downweight = config[\"repetition_downweight\"]\n",
    "allow_reversions_to_ref = config[\"allow_reversions_to_ref\"]\n",
    "categories = config[\"categories\"]\n",
    "\n",
    "for parent, parent_d in config[\"parent_specs\"].items():\n",
    "    nmutants = parent_d[\"nmutants\"]\n",
    "    print(f\"Making {nmutants=} mutant designs for {parent=} in each category\")\n",
    "    with open(parent_d[\"specs\"]) as f:\n",
    "        parent_config = yaml.YAML().load(f)\n",
    "\n",
    "    print(parent_config)"
   ]
  },
  {
   "cell_type": "markdown",
   "id": "ce6ba58b-b81b-4238-8c5d-8c6e6153f6a4",
   "metadata": {},
   "source": [
    "## Now design mutated cocktails\n",
    "First, set up escape calculator:"
   ]
  },
  {
   "cell_type": "code",
   "execution_count": null,
   "id": "5d9d7a80-5c94-410b-bac6-b6d5179a3f4f",
   "metadata": {
    "tags": []
   },
   "outputs": [],
   "source": [
    "# get and import the module\n",
    "_ = urllib.request.urlretrieve(\n",
    "    config[\"escapecalculator\"][\"module_url\"],\n",
    "    \"escapecalculator.py\",\n",
    ")\n",
    "import escapecalculator\n",
    "\n",
    "escape_calc = escapecalculator.EscapeCalculator(**config[\"escapecalculator\"][\"kwargs\"])\n",
    "\n",
    "print(f\"Using the following virus: {escape_calc.virus=}\")"
   ]
  },
  {
   "cell_type": "markdown",
   "id": "a98184a8-dd4b-4c86-a267-36f60ba5158b",
   "metadata": {},
   "source": [
    "Now get the RBD deep mutational scanning data:"
   ]
  },
  {
   "cell_type": "code",
   "execution_count": null,
   "id": "9320f889-826d-44ad-b788-db22605cb2dc",
   "metadata": {
    "tags": []
   },
   "outputs": [],
   "source": [
    "rbd_dms_target = config[\"rbd_dms\"][\"target\"]\n",
    "\n",
    "rbd_dms = (\n",
    "    pd.read_csv(config[\"rbd_dms\"][\"data\"])\n",
    "    .query(\"target == @rbd_dms_target\")\n",
    "    .rename(columns={\"position\": \"site\", \"mutant\": \"amino_acid\"})\n",
    "    [[\"site\", \"amino_acid\", \"delta_bind\", \"delta_expr\"]]\n",
    ")\n",
    "    \n",
    "rbd_dms"
   ]
  },
  {
   "cell_type": "markdown",
   "id": "57e285ec-7601-4cb6-91fe-5560965b5602",
   "metadata": {},
   "source": [
    "Now get the fitness estimates.\n",
    "Note that these implicitly include the nucleotide mutation spectrum as there won't be estimates for inaccessible mutations.\n",
    "We compute fitness as the average of the all-clade and recent-clade fitnesses where both available, and just the all-clade otherwise:"
   ]
  },
  {
   "cell_type": "code",
   "execution_count": null,
   "id": "00436000-51fe-4ecd-8f03-83065c979b91",
   "metadata": {
    "tags": []
   },
   "outputs": [],
   "source": [
    "# first get the fitness estimates themselves\n",
    "fitness = (\n",
    "    pd.read_csv(config[\"fitness_estimates\"][\"fitness\"])\n",
    "    .query(\"gene == 'S'\")\n",
    "    .query(\"expected_count >= @config['fitness_estimates']['drop_min_expected_count']\")\n",
    "    .rename(columns={\"aa_site\": \"site\", \"aa\": \"amino_acid\"})\n",
    "    [[\"site\", \"amino_acid\", \"fitness\"]]\n",
    ")\n",
    "\n",
    "# now get clade specific estimates for favorable mutations w sufficient counts\n",
    "fitness_clade = (\n",
    "    pd.read_csv(config[\"fitness_estimates\"][\"by_clade\"])\n",
    "    .query(\"clade == @config['fitness_estimates']['clade']\")\n",
    "    .query(\"gene == 'S'\")\n",
    "    .rename(columns={\"aa_site\": \"site\", \"mutant_aa\": \"amino_acid\"})\n",
    "    .query(\"delta_fitness > 0\")\n",
    "    .assign(max_count=lambda x: numpy.maximum(x[\"expected_count\"], x[\"actual_count\"]))\n",
    "    .query(\"max_count >= @config['fitness_estimates']['clade_min_count']\")\n",
    "    [[\"site\", \"amino_acid\", \"delta_fitness\"]]\n",
    ")\n",
    "\n",
    "# average in favorable clade-specific estimates\n",
    "fitness = (\n",
    "    fitness\n",
    "    .merge(fitness_clade, how=\"left\")\n",
    "    .assign(\n",
    "        avg=lambda x: numpy.where(\n",
    "            x[\"delta_fitness\"].isnull(),\n",
    "            x[\"fitness\"],\n",
    "            (x[\"fitness\"] + x[\"delta_fitness\"]) / 2,\n",
    "        ),\n",
    "        fitness_score=lambda x: numpy.clip(\n",
    "            numpy.exp(x[\"avg\"]), a_max=config[\"fitness_estimates\"][\"clip\"], a_min=None,\n",
    "        )\n",
    "    )\n",
    "    [[\"site\", \"amino_acid\", \"fitness_score\"]]\n",
    ")"
   ]
  },
  {
   "cell_type": "markdown",
   "id": "254d4e91-09e8-4c5b-9a1c-dbdf4fb83af5",
   "metadata": {},
   "source": [
    "Now iterate through the cocktails and design the mutants according to the following criteria:\n",
    "\n",
    " - We include all the parents\n",
    " - For the remaining components, we:\n",
    "   1. Pick a parent\n",
    "   2. Choose the specified number of mutations, at each step choosing the mutation that maximizes the product of:\n",
    "     + the most escape according to the [RBD escape calculator](https://jbloomlab.github.io/SARS2-RBD-escape-calc/), but according to the condition no mutation is repeated in the cocktail.\n",
    "     + exponential of the change in ACE2 affinity as measured in [RBD deep mutational scanning](https://journals.plos.org/plospathogens/article?id=10.1371/journal.ppat.1010951) with a ceiling applied\n",
    "     + exponential of the change in expression as measured in [RBD deep mutational scanning](https://journals.plos.org/plospathogens/article?id=10.1371/journal.ppat.1010951) with a ceiling appled\n",
    "     + a fitness score calculated as exponential the fitness estimate from [Bloom and Neher](https://www.biorxiv.org/content/10.1101/2023.01.30.526314v1), with clipping\n",
    "     + ensuring only one mutation is chosen at each site\n",
    "   3. Pick the next parent (repeating a previously used one if needed), and pick a new set of mutations. Mutations are downweighted each time they are included in a cocktail component to encourage new compositions of subsequent variants.\n",
    "   "
   ]
  },
  {
   "cell_type": "code",
   "execution_count": null,
   "id": "6b0e0f95-47db-4d75-b6ac-e1b134452e29",
   "metadata": {
    "tags": []
   },
   "outputs": [],
   "source": [
    "components_per_cocktail = config[\"components_per_cocktail\"]\n",
    "mutations_per_design = config[\"mutations_per_design\"]\n",
    "parent_existing_mut_sites = config[\"escapecalculator\"][\"parent_existing_mut_sites\"]\n",
    "rbd_dms_clip = config[\"rbd_dms\"][\"clip\"]\n",
    "repetition_downweight = config[\"repetition_downweight\"]\n",
    "\n",
    "if len(parents) >= components_per_cocktail:\n",
    "    raise ValueError(\"nothing to design if as many parents and components\")\n",
    "print(f\"All cocktails have {components_per_cocktail} components\")\n",
    "\n",
    "for cocktail, n_muts in mutations_per_design.items():\n",
    "    print(f\"\\nDesigning {cocktail} with {n_muts} mutations per design\")\n",
    "    \n",
    "    cocktail_seqs = [(name, str(seq.seq)) for name, seq in parents.items()]\n",
    "    cocktail_mutation_counts = collections.defaultdict(int)  # counts of mutations in cocktail so far\n",
    "    \n",
    "    i = 0\n",
    "    while len(cocktail_seqs) < components_per_cocktail:\n",
    "        design_parent_name, design_parent_seq = list(parents.items())[i % len(parents)]\n",
    "        design_parent_seq = str(design_parent_seq.seq)\n",
    "        i += 1\n",
    "        \n",
    "        mut_sites = list(parent_existing_mut_sites[design_parent_name])\n",
    "        \n",
    "        # normalize RBD DMS so parental value is 0\n",
    "        parent_normalized_rbd_dms = (\n",
    "            rbd_dms\n",
    "            .assign(parent_aa=lambda x: x[\"site\"].map(parent_wts[design_parent_name]))\n",
    "            .query(\"amino_acid == parent_aa\")\n",
    "            .rename(columns={\"delta_expr\": \"parent_expr\", \"delta_bind\": \"parent_bind\"})\n",
    "            .drop(columns=\"amino_acid\")\n",
    "            .merge(rbd_dms, on=\"site\", validate=\"one_to_many\")\n",
    "            .assign(\n",
    "                delta_expr=lambda x: x[\"delta_expr\"] - x[\"parent_expr\"],\n",
    "                delta_bind=lambda x: x[\"delta_bind\"] - x[\"parent_bind\"],\n",
    "            )\n",
    "            [[\"site\", \"amino_acid\", \"delta_expr\", \"delta_bind\"]]\n",
    "        )\n",
    "        \n",
    "        design_mutations = []\n",
    "        for _ in range(n_muts):\n",
    "            # get top scoring mutation\n",
    "            mut_scores = (\n",
    "                escape_calc.escape_per_site(mut_sites)\n",
    "                .merge(parent_normalized_rbd_dms, on=\"site\")\n",
    "                .merge(fitness, on=[\"site\", \"amino_acid\"])\n",
    "                .assign(\n",
    "                    parent_aa=lambda x: x[\"site\"].map(parent_wts[design_parent_name]),\n",
    "                    mutation=lambda x: x[\"parent_aa\"] + x[\"site\"].astype(str) + x[\"amino_acid\"],\n",
    "                    repetition_weight=lambda x: repetition_downweight**x[\"mutation\"].map(cocktail_mutation_counts),\n",
    "                    score=lambda x: (\n",
    "                        x[\"retained_escape\"]\n",
    "                        * numpy.clip(numpy.exp(x[\"delta_expr\"]), a_min=None, a_max=rbd_dms_clip)\n",
    "                        * numpy.clip(numpy.exp(x[\"delta_bind\"]), a_min=None, a_max=rbd_dms_clip)\n",
    "                        * x[\"fitness_score\"]\n",
    "                        * x[\"repetition_weight\"]\n",
    "                    ),\n",
    "                )\n",
    "                .sort_values(\"score\", ascending=False)\n",
    "                .query(\"parent_aa != amino_acid\")\n",
    "            )\n",
    "            mutation = mut_scores[\"mutation\"].iloc[0]\n",
    "            site = mut_scores[\"site\"].iloc[0]\n",
    "            design_mutations.append(mutation)\n",
    "            cocktail_mutation_counts[mutation] += 1\n",
    "            mut_sites.append(site)\n",
    "        \n",
    "        design_seq = list(design_parent_seq)\n",
    "        for mut in design_mutations:\n",
    "            r_parent = ref_to_parent_site[design_parent_name][int(mut[1: -1])]\n",
    "            assert design_seq[r_parent - 1] == mut[0]\n",
    "            design_seq[r_parent - 1] = mut[-1]\n",
    "        cocktail_seqs.append(\n",
    "            (\n",
    "                design_parent_name + \"_\" + \"_\".join(design_mutations),\n",
    "                \"\".join(design_seq),\n",
    "            )\n",
    "        )\n",
    "        \n",
    "    print(\"Components of cocktail are:\\n \" + \"\\n \".join(n for n, _ in cocktail_seqs))\n",
    "    \n",
    "    cocktail_vax_file = f\"vax_designs/{cocktail}-vax.fa\"\n",
    "    print(f\"Writing {cocktail} of {len(cocktail_seqs)} to {cocktail_vax_file}\")\n",
    "    with open(cocktail_vax_file, \"w\") as f:\n",
    "        for name, seq in cocktail_seqs:\n",
    "            f.write(f\">{name}\\n{seq}\\n\")"
   ]
  }
 ],
 "metadata": {
  "kernelspec": {
   "display_name": "Python 3 (ipykernel)",
   "language": "python",
   "name": "python3"
  },
  "language_info": {
   "codemirror_mode": {
    "name": "ipython",
    "version": 3
   },
   "file_extension": ".py",
   "mimetype": "text/x-python",
   "name": "python",
   "nbconvert_exporter": "python",
   "pygments_lexer": "ipython3",
   "version": "3.12.3"
  }
 },
 "nbformat": 4,
 "nbformat_minor": 5
}
