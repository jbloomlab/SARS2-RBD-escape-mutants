{
 "cells": [
  {
   "cell_type": "markdown",
   "id": "fd4a310b-540b-4a3b-a18f-19aede5e5db1",
   "metadata": {},
   "source": [
    "# Design cocktail SARS-CoV-2 vaccines\n",
    "This notebook chooses/designs spikes for a SARS-CoV-2 cocktail vaccine.\n",
    "The design is done by Jesse Bloom.\n",
    "\n",
    "We design the following vaccines:\n",
    "\n",
    " - **parent-vax**: unmutated spike(s) of leading SARS-CoV-2 variants at time of vaccine design.\n",
    " \n",
    " - **cocktail-vax**: spike(s) in *parent-vax* plus additional designed spikes with mutations predicted to be possible future antigenic mutations.\n",
    " \n",
    " - **conservative-cocktail-vax**: like *cocktail-vax*, but fewer mutations per designed spike.\n",
    " \n",
    " - **aggressive-cocktail-vax**: like *cocktail-vax*, but more mutations per designed spike."
   ]
  },
  {
   "cell_type": "markdown",
   "id": "2a319498-77a9-4b92-9f72-e0f9eff5d385",
   "metadata": {},
   "source": [
    "## Setup\n",
    "Import Python modules:"
   ]
  },
  {
   "cell_type": "code",
   "execution_count": 1,
   "id": "f1ebf31a-43a9-4b55-a523-387ee5730c89",
   "metadata": {
    "execution": {
     "iopub.execute_input": "2023-06-24T13:34:29.195733Z",
     "iopub.status.busy": "2023-06-24T13:34:29.195156Z",
     "iopub.status.idle": "2023-06-24T13:34:30.325633Z",
     "shell.execute_reply": "2023-06-24T13:34:30.324856Z",
     "shell.execute_reply.started": "2023-06-24T13:34:29.195707Z"
    },
    "tags": []
   },
   "outputs": [],
   "source": [
    "import collections\n",
    "import os\n",
    "import subprocess\n",
    "import tempfile\n",
    "import urllib\n",
    "\n",
    "import altair as alt\n",
    "\n",
    "import Bio.Entrez\n",
    "import Bio.SeqIO\n",
    "\n",
    "import numpy\n",
    "\n",
    "import pandas as pd\n",
    "\n",
    "import yaml"
   ]
  },
  {
   "cell_type": "markdown",
   "id": "0db7d3d5-0ac6-4bd6-845c-51ad6201a208",
   "metadata": {},
   "source": [
    "Read configuration:"
   ]
  },
  {
   "cell_type": "code",
   "execution_count": 2,
   "id": "efc59b42-d5d6-4757-8277-4240372df73b",
   "metadata": {
    "execution": {
     "iopub.execute_input": "2023-06-24T13:34:30.331895Z",
     "iopub.status.busy": "2023-06-24T13:34:30.331249Z",
     "iopub.status.idle": "2023-06-24T13:34:30.350081Z",
     "shell.execute_reply": "2023-06-24T13:34:30.349403Z",
     "shell.execute_reply.started": "2023-06-24T13:34:30.331857Z"
    },
    "tags": []
   },
   "outputs": [
    {
     "name": "stdout",
     "output_type": "stream",
     "text": [
      "Here is the configuration:\n",
      "\n",
      "components_per_cocktail: 10\n",
      "escapecalculator:\n",
      "  kwargs:\n",
      "    antibody_binding: https://raw.githubusercontent.com/jbloomlab/SARS2-RBD-escape-calc/5ebb88e5b8c9adc1b601b3cb1cc5308532d97a38/results/antibody_binding.csv\n",
      "    antibody_ic50s: https://raw.githubusercontent.com/jbloomlab/SARS2-RBD-escape-calc/5ebb88e5b8c9adc1b601b3cb1cc5308532d97a38/results/antibody_IC50s.csv\n",
      "    antibody_reweighting: https://raw.githubusercontent.com/jbloomlab/SARS2-RBD-escape-calc/5ebb88e5b8c9adc1b601b3cb1cc5308532d97a38/results/antibody_reweighting.csv\n",
      "    antibody_sources: https://raw.githubusercontent.com/jbloomlab/SARS2-RBD-escape-calc/5ebb88e5b8c9adc1b601b3cb1cc5308532d97a38/results/antibody_sources.csv\n",
      "    config: https://raw.githubusercontent.com/jbloomlab/SARS2-RBD-escape-calc/5ebb88e5b8c9adc1b601b3cb1cc5308532d97a38/config.yaml\n",
      "  module_url: https://raw.githubusercontent.com/jbloomlab/SARS2-RBD-escape-calc/5ebb88e5b8c9adc1b601b3cb1cc5308532d97a38/escapecalculator.py\n",
      "  parent_existing_mut_sites:\n",
      "    XBB.1.16:\n",
      "    - 478\n",
      "fitness_estimates:\n",
      "  by_clade: https://media.githubusercontent.com/media/jbloomlab/SARS2-mut-fitness/main/results_public_2023-06-21/aa_fitness/aamut_fitness_by_clade.csv\n",
      "  clade: 23A\n",
      "  clade_min_count: 5\n",
      "  clip: 4\n",
      "  drop_min_expected_count: 8\n",
      "  fitness: https://raw.githubusercontent.com/jbloomlab/SARS2-mut-fitness/main/results_public_2023-06-21/aa_fitness/aa_fitness.csv\n",
      "mutations_per_design:\n",
      "  aggressive-cocktail: 6\n",
      "  cocktail: 4\n",
      "  conservative-cocktail: 2\n",
      "parent_spikes:\n",
      "  XBB.1.16: WCM02109\n",
      "rbd_dms:\n",
      "  clip: 2\n",
      "  data: https://media.githubusercontent.com/media/tstarrlab/SARS-CoV-2-RBD_DMS_Omicron-XBB-BQ/e500f9238740e3e218477c3a9fde2b86fec4f396/results/final_variant_scores/final_variant_scores.csv\n",
      "  target: Omicron_XBB15\n",
      "ref_spike: YP_009724390\n",
      "repetition_downweight: 0.5\n",
      "\n"
     ]
    }
   ],
   "source": [
    "with open(\"config.yaml\") as f:\n",
    "    config = yaml.safe_load(f)\n",
    "    \n",
    "print(\"Here is the configuration:\\n\")\n",
    "print(yaml.dump(config))"
   ]
  },
  {
   "cell_type": "markdown",
   "id": "ecbc0e04-acaf-4757-b68a-7b68abba5214",
   "metadata": {},
   "source": [
    "## Design *parent-vax* \n",
    "Get the sequences:"
   ]
  },
  {
   "cell_type": "code",
   "execution_count": 3,
   "id": "ca50f0fa-5bc9-4113-b753-b74448bcf3a2",
   "metadata": {
    "execution": {
     "iopub.execute_input": "2023-06-24T13:34:30.353547Z",
     "iopub.status.busy": "2023-06-24T13:34:30.353337Z",
     "iopub.status.idle": "2023-06-24T13:34:31.596891Z",
     "shell.execute_reply": "2023-06-24T13:34:31.595553Z",
     "shell.execute_reply.started": "2023-06-24T13:34:30.353527Z"
    },
    "tags": []
   },
   "outputs": [
    {
     "name": "stdout",
     "output_type": "stream",
     "text": [
      "Getting reference spike from accession YP_009724390\n",
      "Got spike of length 1273\n",
      "\n",
      "Getting parent spike XBB.1.16 from WCM02109\n",
      "Got spike of length 1269\n"
     ]
    }
   ],
   "source": [
    "Bio.Entrez.email = \"example@example.com\"\n",
    "\n",
    "print(f\"Getting reference spike from accession {config['ref_spike']}\")\n",
    "with Bio.Entrez.efetch(id=config[\"ref_spike\"], rettype=\"gb\", retmode=\"text\", db=\"protein\") as f:\n",
    "    ref_spike = Bio.SeqIO.read(f, \"gb\")\n",
    "print(f\"Got spike of length {len(ref_spike)}\")\n",
    "\n",
    "parents = {}\n",
    "for name, acc in config[\"parent_spikes\"].items():\n",
    "    print(f\"\\nGetting parent spike {name} from {acc}\")\n",
    "    with Bio.Entrez.efetch(id=acc, rettype=\"gb\", retmode=\"text\", db=\"protein\") as f:\n",
    "        parents[name] = Bio.SeqIO.read(f, \"gb\")\n",
    "    print(f\"Got spike of length {len(parents[name])}\")"
   ]
  },
  {
   "cell_type": "markdown",
   "id": "f5d45f62-8f06-44a7-acf6-7f0648cb854f",
   "metadata": {
    "tags": []
   },
   "source": [
    "Get the lists of mutations in each parental spike relative to the Wuhan-Hu-1 reference, and also a mapping of site number to wildtypes and site number in reference to site in each parent:"
   ]
  },
  {
   "cell_type": "code",
   "execution_count": 4,
   "id": "cceee9e2-305b-4023-ad33-d1b67049e445",
   "metadata": {
    "execution": {
     "iopub.execute_input": "2023-06-24T13:34:31.606190Z",
     "iopub.status.busy": "2023-06-24T13:34:31.605413Z",
     "iopub.status.idle": "2023-06-24T13:34:31.867771Z",
     "shell.execute_reply": "2023-06-24T13:34:31.866859Z",
     "shell.execute_reply.started": "2023-06-24T13:34:31.606122Z"
    },
    "tags": []
   },
   "outputs": [
    {
     "name": "stdout",
     "output_type": "stream",
     "text": [
      "\n",
      "XBB.1.16 has the following 43 mutations:\n",
      "  T19I\n",
      "  L24-\n",
      "  P25-\n",
      "  P26-\n",
      "  A27S\n",
      "  V83A\n",
      "  G142D\n",
      "  Y145-\n",
      "  H146Q\n",
      "  E180V\n",
      "  Q183E\n",
      "  V213E\n",
      "  G252V\n",
      "  G339H\n",
      "  R346T\n",
      "  L368I\n",
      "  S371F\n",
      "  S373P\n",
      "  S375F\n",
      "  T376A\n",
      "  D405N\n",
      "  R408S\n",
      "  K417N\n",
      "  N440K\n",
      "  V445P\n",
      "  G446S\n",
      "  N460K\n",
      "  S477N\n",
      "  T478R\n",
      "  E484A\n",
      "  F486P\n",
      "  F490S\n",
      "  Q498R\n",
      "  N501Y\n",
      "  Y505H\n",
      "  D614G\n",
      "  H655Y\n",
      "  N679K\n",
      "  P681H\n",
      "  N764K\n",
      "  D796Y\n",
      "  Q954H\n",
      "  N969K\n"
     ]
    }
   ],
   "source": [
    "parent_wts = {}\n",
    "\n",
    "ref_to_parent_site = {}\n",
    "\n",
    "for name, seq in parents.items():\n",
    "    with tempfile.TemporaryDirectory() as tmpdir:\n",
    "        f_in = os.path.join(tmpdir, \"in.fa\")\n",
    "        f_out = os.path.join(tmpdir, \"out.fa\")\n",
    "        Bio.SeqIO.write([ref_spike, seq], f_in, \"fasta\")\n",
    "        res = subprocess.run(\n",
    "            [\"muscle\", \"-align\", f_in, \"-output\", f_out],\n",
    "            check=True,\n",
    "            capture_output=True,\n",
    "        )\n",
    "        assert res.returncode == 0\n",
    "        aligned_ref, aligned_seq = list(Bio.SeqIO.parse(f_out, \"fasta\"))\n",
    "    muts = []\n",
    "    r_ref = r_seq = 1\n",
    "    parent_wts[name] = {}\n",
    "    ref_to_parent_site[name] = {}\n",
    "    for a_ref, a_seq in zip(aligned_ref.seq, aligned_seq.seq):\n",
    "        parent_wts[name][r_ref] = a_seq\n",
    "        ref_to_parent_site[name][r_ref] = r_seq\n",
    "        if a_ref != a_seq:\n",
    "            muts.append(f\"{a_ref}{r_ref}{a_seq}\")\n",
    "        if a_ref != \"-\":\n",
    "            r_ref += 1\n",
    "        if a_seq != \"-\":\n",
    "            r_seq += 1\n",
    "    print(f\"\\n{name} has the following {len(muts)} mutations:\\n  \" + \"\\n  \".join(muts))"
   ]
  },
  {
   "cell_type": "markdown",
   "id": "dd6bbc54-9d39-4ecd-93c7-956a6eb47dff",
   "metadata": {
    "tags": []
   },
   "source": [
    "Write the *parent-vax* to a file:"
   ]
  },
  {
   "cell_type": "code",
   "execution_count": 5,
   "id": "b0d56cec-5bee-4676-8844-6108433e199e",
   "metadata": {
    "execution": {
     "iopub.execute_input": "2023-06-24T13:34:31.872859Z",
     "iopub.status.busy": "2023-06-24T13:34:31.872181Z",
     "iopub.status.idle": "2023-06-24T13:34:31.882370Z",
     "shell.execute_reply": "2023-06-24T13:34:31.881325Z",
     "shell.execute_reply.started": "2023-06-24T13:34:31.872819Z"
    },
    "tags": []
   },
   "outputs": [
    {
     "name": "stdout",
     "output_type": "stream",
     "text": [
      "Writing parent-vax of 1 to vax_designs/parent-vax.fa\n"
     ]
    }
   ],
   "source": [
    "os.makedirs(\"vax_designs\", exist_ok=True)\n",
    "parent_vax_file = \"vax_designs/parent-vax.fa\"\n",
    "print(f\"Writing parent-vax of {len(parents)} to {parent_vax_file}\")\n",
    "with open(parent_vax_file, \"w\") as f:\n",
    "    for name, seq in parents.items():\n",
    "        f.write(f\">{name}\\n{str(seq.seq)}\\n\")"
   ]
  },
  {
   "cell_type": "markdown",
   "id": "ce6ba58b-b81b-4238-8c5d-8c6e6153f6a4",
   "metadata": {},
   "source": [
    "## Now design mutated cocktails\n",
    "First, set up escape calculator:"
   ]
  },
  {
   "cell_type": "code",
   "execution_count": 6,
   "id": "5d9d7a80-5c94-410b-bac6-b6d5179a3f4f",
   "metadata": {
    "execution": {
     "iopub.execute_input": "2023-06-24T13:34:31.888020Z",
     "iopub.status.busy": "2023-06-24T13:34:31.887331Z",
     "iopub.status.idle": "2023-06-24T13:34:37.004816Z",
     "shell.execute_reply": "2023-06-24T13:34:37.004114Z",
     "shell.execute_reply.started": "2023-06-24T13:34:31.887979Z"
    },
    "tags": []
   },
   "outputs": [
    {
     "name": "stdout",
     "output_type": "stream",
     "text": [
      "Using the following virus: escape_calc.virus='XBB'\n"
     ]
    }
   ],
   "source": [
    "# get and import the module\n",
    "_ = urllib.request.urlretrieve(\n",
    "    config[\"escapecalculator\"][\"module_url\"],\n",
    "    \"escapecalculator.py\",\n",
    ")\n",
    "import escapecalculator\n",
    "\n",
    "escape_calc = escapecalculator.EscapeCalculator(**config[\"escapecalculator\"][\"kwargs\"])\n",
    "\n",
    "print(f\"Using the following virus: {escape_calc.virus=}\")"
   ]
  },
  {
   "cell_type": "markdown",
   "id": "a98184a8-dd4b-4c86-a267-36f60ba5158b",
   "metadata": {},
   "source": [
    "Now get the RBD deep mutational scanning data:"
   ]
  },
  {
   "cell_type": "code",
   "execution_count": 7,
   "id": "9320f889-826d-44ad-b788-db22605cb2dc",
   "metadata": {
    "execution": {
     "iopub.execute_input": "2023-06-24T13:34:37.008698Z",
     "iopub.status.busy": "2023-06-24T13:34:37.008537Z",
     "iopub.status.idle": "2023-06-24T13:34:37.851476Z",
     "shell.execute_reply": "2023-06-24T13:34:37.850888Z",
     "shell.execute_reply.started": "2023-06-24T13:34:37.008679Z"
    },
    "tags": []
   },
   "outputs": [
    {
     "data": {
      "text/html": [
       "<div>\n",
       "<style scoped>\n",
       "    .dataframe tbody tr th:only-of-type {\n",
       "        vertical-align: middle;\n",
       "    }\n",
       "\n",
       "    .dataframe tbody tr th {\n",
       "        vertical-align: top;\n",
       "    }\n",
       "\n",
       "    .dataframe thead th {\n",
       "        text-align: right;\n",
       "    }\n",
       "</style>\n",
       "<table border=\"1\" class=\"dataframe\">\n",
       "  <thead>\n",
       "    <tr style=\"text-align: right;\">\n",
       "      <th></th>\n",
       "      <th>site</th>\n",
       "      <th>amino_acid</th>\n",
       "      <th>delta_bind</th>\n",
       "      <th>delta_expr</th>\n",
       "    </tr>\n",
       "  </thead>\n",
       "  <tbody>\n",
       "    <tr>\n",
       "      <th>29547</th>\n",
       "      <td>331</td>\n",
       "      <td>-</td>\n",
       "      <td>0.03</td>\n",
       "      <td>-0.10</td>\n",
       "    </tr>\n",
       "    <tr>\n",
       "      <th>29548</th>\n",
       "      <td>331</td>\n",
       "      <td>A</td>\n",
       "      <td>0.08</td>\n",
       "      <td>-0.18</td>\n",
       "    </tr>\n",
       "    <tr>\n",
       "      <th>29549</th>\n",
       "      <td>331</td>\n",
       "      <td>C</td>\n",
       "      <td>-0.30</td>\n",
       "      <td>-0.39</td>\n",
       "    </tr>\n",
       "    <tr>\n",
       "      <th>29550</th>\n",
       "      <td>331</td>\n",
       "      <td>D</td>\n",
       "      <td>0.07</td>\n",
       "      <td>-0.10</td>\n",
       "    </tr>\n",
       "    <tr>\n",
       "      <th>29551</th>\n",
       "      <td>331</td>\n",
       "      <td>E</td>\n",
       "      <td>0.04</td>\n",
       "      <td>-0.04</td>\n",
       "    </tr>\n",
       "    <tr>\n",
       "      <th>...</th>\n",
       "      <td>...</td>\n",
       "      <td>...</td>\n",
       "      <td>...</td>\n",
       "      <td>...</td>\n",
       "    </tr>\n",
       "    <tr>\n",
       "      <th>33763</th>\n",
       "      <td>531</td>\n",
       "      <td>S</td>\n",
       "      <td>0.02</td>\n",
       "      <td>0.09</td>\n",
       "    </tr>\n",
       "    <tr>\n",
       "      <th>33764</th>\n",
       "      <td>531</td>\n",
       "      <td>T</td>\n",
       "      <td>0.00</td>\n",
       "      <td>0.00</td>\n",
       "    </tr>\n",
       "    <tr>\n",
       "      <th>33765</th>\n",
       "      <td>531</td>\n",
       "      <td>V</td>\n",
       "      <td>-0.08</td>\n",
       "      <td>-0.12</td>\n",
       "    </tr>\n",
       "    <tr>\n",
       "      <th>33766</th>\n",
       "      <td>531</td>\n",
       "      <td>W</td>\n",
       "      <td>0.01</td>\n",
       "      <td>-0.03</td>\n",
       "    </tr>\n",
       "    <tr>\n",
       "      <th>33767</th>\n",
       "      <td>531</td>\n",
       "      <td>Y</td>\n",
       "      <td>0.09</td>\n",
       "      <td>0.07</td>\n",
       "    </tr>\n",
       "  </tbody>\n",
       "</table>\n",
       "<p>4221 rows × 4 columns</p>\n",
       "</div>"
      ],
      "text/plain": [
       "       site amino_acid  delta_bind  delta_expr\n",
       "29547   331          -        0.03       -0.10\n",
       "29548   331          A        0.08       -0.18\n",
       "29549   331          C       -0.30       -0.39\n",
       "29550   331          D        0.07       -0.10\n",
       "29551   331          E        0.04       -0.04\n",
       "...     ...        ...         ...         ...\n",
       "33763   531          S        0.02        0.09\n",
       "33764   531          T        0.00        0.00\n",
       "33765   531          V       -0.08       -0.12\n",
       "33766   531          W        0.01       -0.03\n",
       "33767   531          Y        0.09        0.07\n",
       "\n",
       "[4221 rows x 4 columns]"
      ]
     },
     "execution_count": 7,
     "metadata": {},
     "output_type": "execute_result"
    }
   ],
   "source": [
    "rbd_dms_target = config[\"rbd_dms\"][\"target\"]\n",
    "\n",
    "rbd_dms = (\n",
    "    pd.read_csv(config[\"rbd_dms\"][\"data\"])\n",
    "    .query(\"target == @rbd_dms_target\")\n",
    "    .rename(columns={\"position\": \"site\", \"mutant\": \"amino_acid\"})\n",
    "    [[\"site\", \"amino_acid\", \"delta_bind\", \"delta_expr\"]]\n",
    ")\n",
    "    \n",
    "rbd_dms"
   ]
  },
  {
   "cell_type": "markdown",
   "id": "57e285ec-7601-4cb6-91fe-5560965b5602",
   "metadata": {},
   "source": [
    "Now get the fitness estimates.\n",
    "Note that these implicitly include the nucleotide mutation spectrum as there won't be estimates for inaccessible mutations.\n",
    "We compute fitness as the average of the all-clade and recent-clade fitnesses where both available, and just the all-clade otherwise:"
   ]
  },
  {
   "cell_type": "code",
   "execution_count": 8,
   "id": "00436000-51fe-4ecd-8f03-83065c979b91",
   "metadata": {
    "execution": {
     "iopub.execute_input": "2023-06-24T13:34:37.854795Z",
     "iopub.status.busy": "2023-06-24T13:34:37.854611Z",
     "iopub.status.idle": "2023-06-24T13:34:49.177065Z",
     "shell.execute_reply": "2023-06-24T13:34:49.176178Z",
     "shell.execute_reply.started": "2023-06-24T13:34:37.854777Z"
    },
    "tags": []
   },
   "outputs": [],
   "source": [
    "# first get the fitness estimates themselves\n",
    "fitness = (\n",
    "    pd.read_csv(config[\"fitness_estimates\"][\"fitness\"])\n",
    "    .query(\"gene == 'S'\")\n",
    "    .query(\"expected_count >= @config['fitness_estimates']['drop_min_expected_count']\")\n",
    "    .rename(columns={\"aa_site\": \"site\", \"aa\": \"amino_acid\"})\n",
    "    [[\"site\", \"amino_acid\", \"fitness\"]]\n",
    ")\n",
    "\n",
    "# now get clade specific estimates for favorable mutations w sufficient counts\n",
    "fitness_clade = (\n",
    "    pd.read_csv(config[\"fitness_estimates\"][\"by_clade\"])\n",
    "    .query(\"clade == @config['fitness_estimates']['clade']\")\n",
    "    .query(\"gene == 'S'\")\n",
    "    .rename(columns={\"aa_site\": \"site\", \"mutant_aa\": \"amino_acid\"})\n",
    "    .query(\"delta_fitness > 0\")\n",
    "    .assign(max_count=lambda x: numpy.maximum(x[\"expected_count\"], x[\"actual_count\"]))\n",
    "    .query(\"max_count >= @config['fitness_estimates']['clade_min_count']\")\n",
    "    [[\"site\", \"amino_acid\", \"delta_fitness\"]]\n",
    ")\n",
    "\n",
    "# average in favorable clade-specific estimates\n",
    "fitness = (\n",
    "    fitness\n",
    "    .merge(fitness_clade, how=\"left\")\n",
    "    .assign(\n",
    "        avg=lambda x: numpy.where(\n",
    "            x[\"delta_fitness\"].isnull(),\n",
    "            x[\"fitness\"],\n",
    "            (x[\"fitness\"] + x[\"delta_fitness\"]) / 2,\n",
    "        ),\n",
    "        fitness_score=lambda x: numpy.clip(\n",
    "            numpy.exp(x[\"avg\"]), a_max=config[\"fitness_estimates\"][\"clip\"], a_min=None,\n",
    "        )\n",
    "    )\n",
    "    [[\"site\", \"amino_acid\", \"fitness_score\"]]\n",
    ")"
   ]
  },
  {
   "cell_type": "markdown",
   "id": "254d4e91-09e8-4c5b-9a1c-dbdf4fb83af5",
   "metadata": {},
   "source": [
    "Now iterate through the cocktails and design the mutants according to the following criteria:\n",
    "\n",
    " - We include all the parents\n",
    " - For the remaining components, we:\n",
    "   1. Pick a parent\n",
    "   2. Choose the specified number of mutations, at each step choosing the mutation that maximizes the product of:\n",
    "     + the most escape according to the [RBD escape calculator](https://jbloomlab.github.io/SARS2-RBD-escape-calc/), but according to the condition no mutation is repeated in the cocktail.\n",
    "     + exponential of the change in ACE2 affinity as measured in [RBD deep mutational scanning](https://journals.plos.org/plospathogens/article?id=10.1371/journal.ppat.1010951) with a ceiling applied\n",
    "     + exponential of the change in expression as measured in [RBD deep mutational scanning](https://journals.plos.org/plospathogens/article?id=10.1371/journal.ppat.1010951) with a ceiling appled\n",
    "     + a fitness score calculated as exponential the fitness estimate from [Bloom and Neher](https://www.biorxiv.org/content/10.1101/2023.01.30.526314v1), with clipping\n",
    "     + ensuring only one mutation is chosen at each site\n",
    "   3. Pick the next parent (repeating a previously used one if needed), and pick a new set of mutations. Mutations are downweighted each time they are included in a cocktail component to encourage new compositions of subsequent variants.\n",
    "   "
   ]
  },
  {
   "cell_type": "code",
   "execution_count": 9,
   "id": "6b0e0f95-47db-4d75-b6ac-e1b134452e29",
   "metadata": {
    "execution": {
     "iopub.execute_input": "2023-06-24T13:34:49.181568Z",
     "iopub.status.busy": "2023-06-24T13:34:49.181331Z",
     "iopub.status.idle": "2023-06-24T13:34:54.850181Z",
     "shell.execute_reply": "2023-06-24T13:34:54.849057Z",
     "shell.execute_reply.started": "2023-06-24T13:34:49.181545Z"
    },
    "tags": []
   },
   "outputs": [
    {
     "name": "stdout",
     "output_type": "stream",
     "text": [
      "All cocktails have 10 components\n",
      "\n",
      "Designing cocktail with 4 mutations per design\n",
      "Components of cocktail are:\n",
      " XBB.1.16\n",
      " XBB.1.16_F456L_K440R_K356T_K444T\n",
      " XBB.1.16_F456L_P445A_S490V_T346K\n",
      " XBB.1.16_K440R_Y453F_F456L_T346S\n",
      " XBB.1.16_K444R_K440Y_Q493L_H505Y\n",
      " XBB.1.16_L452M_S494P_P445A_L455S\n",
      " XBB.1.16_L452R_K440R_A484K_N405G\n",
      " XBB.1.16_S490L_K444M_K460Y_E340D\n",
      " XBB.1.16_A484S_K444T_Y453F_K356R\n",
      " XBB.1.16_A484Q_K444R_K460T_E340Q\n",
      "Writing cocktail of 10 to vax_designs/cocktail-vax.fa\n",
      "\n",
      "Designing aggressive-cocktail with 6 mutations per design\n",
      "Components of cocktail are:\n",
      " XBB.1.16\n",
      " XBB.1.16_F456L_K440R_K356T_K444T_S490V_H505Y\n",
      " XBB.1.16_F456L_P445A_T346K_K440R_S494P_K356R\n",
      " XBB.1.16_K444R_Y453F_F456L_K440Y_T346S_S490L\n",
      " XBB.1.16_L452M_Q493L_P445A_A484K_N405G_K356T\n",
      " XBB.1.16_L452R_K440R_L455S_S490Y_E340D_H505Y\n",
      " XBB.1.16_K444M_A484S_K460Y_Y453F_K440Y_K356Q\n",
      " XBB.1.16_A484Q_K444T_K460T_E340Q_L452Q_N439K\n",
      " XBB.1.16_K444R_F456L_S490V_K440N_A348S_K462Q\n",
      " XBB.1.16_K444N_L455W_A484V_P445V_I468V_R403S\n",
      "Writing aggressive-cocktail of 10 to vax_designs/aggressive-cocktail-vax.fa\n",
      "\n",
      "Designing conservative-cocktail with 2 mutations per design\n",
      "Components of cocktail are:\n",
      " XBB.1.16\n",
      " XBB.1.16_F456L_K440R\n",
      " XBB.1.16_F456L_P445A\n",
      " XBB.1.16_K440R_S490V\n",
      " XBB.1.16_K444T_Y453F\n",
      " XBB.1.16_K444R_F456L\n",
      " XBB.1.16_K440Y_T346K\n",
      " XBB.1.16_T346S_Q493L\n",
      " XBB.1.16_K356T_H505Y\n",
      " XBB.1.16_L452M_S494P\n",
      "Writing conservative-cocktail of 10 to vax_designs/conservative-cocktail-vax.fa\n"
     ]
    }
   ],
   "source": [
    "components_per_cocktail = config[\"components_per_cocktail\"]\n",
    "mutations_per_design = config[\"mutations_per_design\"]\n",
    "parent_existing_mut_sites = config[\"escapecalculator\"][\"parent_existing_mut_sites\"]\n",
    "rbd_dms_clip = config[\"rbd_dms\"][\"clip\"]\n",
    "repetition_downweight = config[\"repetition_downweight\"]\n",
    "\n",
    "if len(parents) >= components_per_cocktail:\n",
    "    raise ValueError(\"nothing to design if as many parents and components\")\n",
    "print(f\"All cocktails have {components_per_cocktail} components\")\n",
    "\n",
    "for cocktail, n_muts in mutations_per_design.items():\n",
    "    print(f\"\\nDesigning {cocktail} with {n_muts} mutations per design\")\n",
    "    \n",
    "    cocktail_seqs = [(name, str(seq.seq)) for name, seq in parents.items()]\n",
    "    cocktail_mutation_counts = collections.defaultdict(int)  # counts of mutations in cocktail so far\n",
    "    \n",
    "    i = 0\n",
    "    while len(cocktail_seqs) < components_per_cocktail:\n",
    "        design_parent_name, design_parent_seq = list(parents.items())[i % len(parents)]\n",
    "        design_parent_seq = str(design_parent_seq.seq)\n",
    "        i += 1\n",
    "        \n",
    "        mut_sites = list(parent_existing_mut_sites[design_parent_name])\n",
    "        \n",
    "        # normalize RBD DMS so parental value is 0\n",
    "        parent_normalized_rbd_dms = (\n",
    "            rbd_dms\n",
    "            .assign(parent_aa=lambda x: x[\"site\"].map(parent_wts[design_parent_name]))\n",
    "            .query(\"amino_acid == parent_aa\")\n",
    "            .rename(columns={\"delta_expr\": \"parent_expr\", \"delta_bind\": \"parent_bind\"})\n",
    "            .drop(columns=\"amino_acid\")\n",
    "            .merge(rbd_dms, on=\"site\", validate=\"one_to_many\")\n",
    "            .assign(\n",
    "                delta_expr=lambda x: x[\"delta_expr\"] - x[\"parent_expr\"],\n",
    "                delta_bind=lambda x: x[\"delta_bind\"] - x[\"parent_bind\"],\n",
    "            )\n",
    "            [[\"site\", \"amino_acid\", \"delta_expr\", \"delta_bind\"]]\n",
    "        )\n",
    "        \n",
    "        design_mutations = []\n",
    "        for _ in range(n_muts):\n",
    "            # get top scoring mutation\n",
    "            mut_scores = (\n",
    "                escape_calc.escape_per_site(mut_sites)\n",
    "                .merge(parent_normalized_rbd_dms, on=\"site\")\n",
    "                .merge(fitness, on=[\"site\", \"amino_acid\"])\n",
    "                .assign(\n",
    "                    parent_aa=lambda x: x[\"site\"].map(parent_wts[design_parent_name]),\n",
    "                    mutation=lambda x: x[\"parent_aa\"] + x[\"site\"].astype(str) + x[\"amino_acid\"],\n",
    "                    repetition_weight=lambda x: repetition_downweight**x[\"mutation\"].map(cocktail_mutation_counts),\n",
    "                    score=lambda x: (\n",
    "                        x[\"retained_escape\"]\n",
    "                        * numpy.clip(numpy.exp(x[\"delta_expr\"]), a_min=None, a_max=rbd_dms_clip)\n",
    "                        * numpy.clip(numpy.exp(x[\"delta_bind\"]), a_min=None, a_max=rbd_dms_clip)\n",
    "                        * x[\"fitness_score\"]\n",
    "                        * x[\"repetition_weight\"]\n",
    "                    ),\n",
    "                )\n",
    "                .sort_values(\"score\", ascending=False)\n",
    "                .query(\"parent_aa != amino_acid\")\n",
    "            )\n",
    "            mutation = mut_scores[\"mutation\"].iloc[0]\n",
    "            site = mut_scores[\"site\"].iloc[0]\n",
    "            design_mutations.append(mutation)\n",
    "            cocktail_mutation_counts[mutation] += 1\n",
    "            mut_sites.append(site)\n",
    "        \n",
    "        design_seq = list(design_parent_seq)\n",
    "        for mut in design_mutations:\n",
    "            r_parent = ref_to_parent_site[design_parent_name][int(mut[1: -1])]\n",
    "            assert design_seq[r_parent - 1] == mut[0]\n",
    "            design_seq[r_parent - 1] = mut[-1]\n",
    "        cocktail_seqs.append(\n",
    "            (\n",
    "                design_parent_name + \"_\" + \"_\".join(design_mutations),\n",
    "                \"\".join(design_seq),\n",
    "            )\n",
    "        )\n",
    "        \n",
    "    print(\"Components of cocktail are:\\n \" + \"\\n \".join(n for n, _ in cocktail_seqs))\n",
    "    \n",
    "    cocktail_vax_file = f\"vax_designs/{cocktail}-vax.fa\"\n",
    "    print(f\"Writing {cocktail} of {len(cocktail_seqs)} to {cocktail_vax_file}\")\n",
    "    with open(cocktail_vax_file, \"w\") as f:\n",
    "        for name, seq in cocktail_seqs:\n",
    "            f.write(f\">{name}\\n{seq}\\n\")"
   ]
  }
 ],
 "metadata": {
  "kernelspec": {
   "display_name": "Python 3 (ipykernel)",
   "language": "python",
   "name": "python3"
  },
  "language_info": {
   "codemirror_mode": {
    "name": "ipython",
    "version": 3
   },
   "file_extension": ".py",
   "mimetype": "text/x-python",
   "name": "python",
   "nbconvert_exporter": "python",
   "pygments_lexer": "ipython3",
   "version": "3.10.11"
  }
 },
 "nbformat": 4,
 "nbformat_minor": 5
}
